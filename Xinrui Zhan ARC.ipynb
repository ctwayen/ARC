{
 "cells": [
  {
   "cell_type": "code",
   "execution_count": 1,
   "metadata": {},
   "outputs": [],
   "source": [
    "import json\n",
    "import os\n",
    "import matplotlib.pyplot as plt\n",
    "import numpy as np\n",
    "\n",
    "train_dir = 'data/training'"
   ]
  },
  {
   "cell_type": "code",
   "execution_count": 9,
   "metadata": {},
   "outputs": [],
   "source": [
    "def cal_unique_col(img):\n",
    "    return np.unique(np.array(img))"
   ]
  },
  {
   "cell_type": "code",
   "execution_count": 169,
   "metadata": {},
   "outputs": [],
   "source": [
    "class img:  \n",
    "    # constructor   \n",
    "    def __init__(self, pixels):  \n",
    "        self.pixels = pixels \n",
    "        self.col_contain = cal_unique_col(self.pixels)\n",
    "    def get_col_loc()"
   ]
  },
  {
   "cell_type": "code",
   "execution_count": 170,
   "metadata": {},
   "outputs": [],
   "source": [
    "class pair:\n",
    "    def __init__(self, inp, oup):\n",
    "        self.input = inp\n",
    "        self.output = oup\n",
    "    def get_input_p(self):\n",
    "        return self.input.pixels\n",
    "    def get_output_p(self):\n",
    "        return self.output.pixels\n",
    "    def get_color_used(self):\n",
    "        return np.array([self.input.col_contain, self.output.col_contain])\n",
    "    def color_whether_change(self):\n",
    "        positive = [x for x in self.output.col_contain if x not in self.input.col_contain]\n",
    "        negative = [x for x in self.input.col_contain if x not in self.output.col_contain]\n",
    "        return np.concatenate((np.array(positive), np.negative(np.array(negative))))"
   ]
  },
  {
   "cell_type": "code",
   "execution_count": 171,
   "metadata": {},
   "outputs": [],
   "source": [
    "class task:\n",
    "    def __init__(self, trains=[]):\n",
    "        self.trains = trains\n",
    "    def add_train(self, train):\n",
    "        self.trains.append(train)\n",
    "    def set_test(self, test):\n",
    "        self.test = test\n",
    "    def get_pair(self, index):\n",
    "        return self.trains[index]\n",
    "    def display(self):\n",
    "        size = len(self.trains)\n",
    "        fig, ax = plt.subplots(2, size+1, figsize=(4*size, 8))\n",
    "        for i in range(size): \n",
    "            ax[0][i].imshow(self.trains[i].get_input_p())\n",
    "            ax[0][i].set_title('{i} train input'.format(i=i))\n",
    "            ax[1][i].imshow(self.trains[i].get_output_p())\n",
    "            ax[1][i].set_title('{i} train output'.format(i=i))\n",
    "        ax[0][size].imshow(self.test.get_input_p())\n",
    "        ax[0][size].set_title('test input')\n",
    "        ax[1][size].imshow(self.test.get_output_p())\n",
    "        ax[1][size].set_title('test output') \n",
    "    def get_color(self):\n",
    "        temp = []\n",
    "        for train in self.trains:\n",
    "            temp.append(train.get_color_used())\n",
    "        temp.append(self.test.get_color_used())\n",
    "        return np.array(temp)"
   ]
  },
  {
   "cell_type": "code",
   "execution_count": 172,
   "metadata": {},
   "outputs": [],
   "source": [
    "def read_pair(dct):\n",
    "    inp = img(dct['input'])\n",
    "    oup = img(dct['output'])\n",
    "    return pair(inp, oup)"
   ]
  },
  {
   "cell_type": "code",
   "execution_count": 173,
   "metadata": {},
   "outputs": [],
   "source": [
    "def read_task(dct):\n",
    "    testp = read_pair(dct['test'][0])\n",
    "    trainp = dct['train']\n",
    "    temp = task([])\n",
    "    temp.set_test(testp)\n",
    "    for train in trainp:\n",
    "        temp.add_train(read_pair(train))\n",
    "    return temp"
   ]
  },
  {
   "cell_type": "code",
   "execution_count": 174,
   "metadata": {},
   "outputs": [],
   "source": [
    "tasks = []\n",
    "for file in os.listdir(train_dir):\n",
    "    with open(os.path.join(train_dir, file)) as f:\n",
    "        temp = json.load(f)\n",
    "        tasks.append(read_task(temp))"
   ]
  },
  {
   "cell_type": "code",
   "execution_count": 125,
   "metadata": {},
   "outputs": [
    {
     "data": {
      "image/png": "[encoded data removed]",
      "text/plain": [
       "<Figure size 1440x576 with 12 Axes>"
      ]
     },
     "metadata": {
      "needs_background": "light"
     },
     "output_type": "display_data"
    }
   ],
   "source": [
    "tasks[0].display()"
   ]
  },
  {
   "cell_type": "code",
   "execution_count": 175,
   "metadata": {},
   "outputs": [
    {
     "data": {
      "text/plain": [
       "array([[[0, 1],\n",
       "        [0, 2]],\n",
       "\n",
       "       [[0, 1],\n",
       "        [0, 2]],\n",
       "\n",
       "       [[0, 1],\n",
       "        [0, 2]],\n",
       "\n",
       "       [[0, 1],\n",
       "        [0, 2]]])"
      ]
     },
     "execution_count": 175,
     "metadata": {},
     "output_type": "execute_result"
    }
   ],
   "source": [
    "tasks[2].get_color()"
   ]
  },
  {
   "cell_type": "code",
   "execution_count": 177,
   "metadata": {},
   "outputs": [
    {
     "data": {
      "text/plain": [
       "array([], dtype=float64)"
      ]
     },
     "execution_count": 177,
     "metadata": {},
     "output_type": "execute_result"
    }
   ],
   "source": []
  },
  {
   "cell_type": "code",
   "execution_count": null,
   "metadata": {},
   "outputs": [],
   "source": []
  }
 ],
 "metadata": {
  "kernelspec": {
   "display_name": "Python 3",
   "language": "python",
   "name": "python3"
  },
  "language_info": {
   "codemirror_mode": {
    "name": "ipython",
    "version": 3
   },
   "file_extension": ".py",
   "mimetype": "text/x-python",
   "name": "python",
   "nbconvert_exporter": "python",
   "pygments_lexer": "ipython3",
   "version": "3.7.3"
  }
 },
 "nbformat": 4,
 "nbformat_minor": 2
}
